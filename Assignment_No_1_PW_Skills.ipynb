{
  "nbformat": 4,
  "nbformat_minor": 0,
  "metadata": {
    "colab": {
      "provenance": []
    },
    "kernelspec": {
      "name": "python3",
      "display_name": "Python 3"
    },
    "language_info": {
      "name": "python"
    }
  },
  "cells": [
    {
      "cell_type": "markdown",
      "source": [
        "# Assignment Answers Python Basics\n",
        "\n",
        "1. What is Python, and why is it popular?\n",
        "\n",
        "- Python is a high-level, interpreted programming language known for its simple syntax and readability.\n",
        "Popularity Reasons:\n",
        "\n",
        "- Easy to learn and use\n",
        "\n",
        "- Large community and support\n",
        "\n",
        "- Extensive libraries and frameworks\n",
        "\n",
        "- Versatile (Web Dev, Data Science, AI, etc.)\n",
        "\n",
        "2. What is an interpreter in Python?\n",
        "\n",
        "- An interpreter is a program that reads and executes code line-by-line, converting it into machine language.\n",
        "\n",
        "3. What are pre-defined keywords in Python?\n",
        "\n",
        "- Pre-defined keywords are reserved words that have special meaning and cannot be used as identifiers or variable names. Example: if, else, while, def, etc.\n",
        "\n",
        "4. Can keywords be used as variable names?\n",
        "\n",
        "- No, keywords cannot be used as variable names because they have predefined meanings in the language.\n",
        "\n",
        "5. What is mutability in Python?\n",
        "\n",
        "- Mutability refers to whether the value of an object can be changed after it is created. Mutable objects can change, immutable ones cannot.\n",
        "\n",
        "6. Why are lists mutable, but tuples are immutable?\n",
        "\n",
        "- Lists are designed for dynamic data, so they allow changes. Tuples are used for fixed collections of items, hence they are immutable for safety and performance.\n",
        "\n",
        "7. What is the difference between “==” and “is” operators in Python?\n",
        "\n",
        "- == checks value equality.\n",
        "\n",
        "- is checks object identity (whether both refer to the same memory location).\n",
        "\n",
        "\n",
        "8. What are logical operators in Python?\n",
        "\n",
        "Logical operators are:\n",
        "\n",
        "- and\n",
        "\n",
        "- or\n",
        "\n",
        "- not\n",
        "Used to combine conditional statements.\n",
        "\n",
        "9. What is type casting in Python?\n",
        "\n",
        "- Type casting means converting one data type into another. Example: int(\"5\") converts a string to an integer.\n",
        "\n",
        "10. What is the difference between implicit and explicit type casting?\n",
        "\n",
        "- Implicit: Done automatically by Python.\n",
        "\n",
        "- Explicit: Done manually using functions like int(), float(), str().\n",
        "\n",
        "11. What is the purpose of conditional statements in Python?\n",
        "\n",
        "- They help execute different blocks of code based on conditions (e.g., if, elif, else).\n",
        "\n",
        "12. How does the elif statement work?\n",
        "\n",
        "- It checks multiple conditions after an if. If the if is false, it evaluates each elif in order.\n",
        "\n",
        "13. What is the difference between for and while loops?\n",
        "\n",
        "- For loop: Used when number of iterations is known.\n",
        "\n",
        "- While loop: Used when condition needs to be checked each time.\n",
        "\n",
        "14. Describe a scenario where a while loop is more suitable than a for loop.\n",
        "\n",
        "- E.g keep asking for input until the user enters a valid password."
      ],
      "metadata": {
        "id": "avY61Zh4r-b8"
      }
    },
    {
      "cell_type": "markdown",
      "source": [
        "# Practical Questions - Python Basics\n",
        "\n",
        "1. Print \"Hello, World!\""
      ],
      "metadata": {
        "id": "oevDNSM8uInm"
      }
    },
    {
      "cell_type": "code",
      "source": [
        "print(\"Hello, World!\")"
      ],
      "metadata": {
        "colab": {
          "base_uri": "https://localhost:8080/"
        },
        "id": "XFUW2KqSuUeL",
        "outputId": "4b2eaa6a-a9b5-4302-c7ec-f620f7fd2e77"
      },
      "execution_count": 2,
      "outputs": [
        {
          "output_type": "stream",
          "name": "stdout",
          "text": [
            "Hello, World!\n"
          ]
        }
      ]
    },
    {
      "cell_type": "markdown",
      "source": [
        "2. Display your name and age"
      ],
      "metadata": {
        "id": "GOnPkDt3uWub"
      }
    },
    {
      "cell_type": "code",
      "source": [
        "name = \"Sakshee\"\n",
        "age = 25\n",
        "print(\"Name:\", name)\n",
        "print(\"Age:\", age)"
      ],
      "metadata": {
        "colab": {
          "base_uri": "https://localhost:8080/"
        },
        "id": "cEUB0ZwKuYRd",
        "outputId": "6b99c7f6-5f66-430a-facb-77be7524ecd5"
      },
      "execution_count": 3,
      "outputs": [
        {
          "output_type": "stream",
          "name": "stdout",
          "text": [
            "Name: Sakshee\n",
            "Age: 25\n"
          ]
        }
      ]
    },
    {
      "cell_type": "markdown",
      "source": [
        "3. Print all Python keywords"
      ],
      "metadata": {
        "id": "Zn2peS9iucKT"
      }
    },
    {
      "cell_type": "code",
      "source": [
        "import keyword\n",
        "print(keyword.kwlist)"
      ],
      "metadata": {
        "colab": {
          "base_uri": "https://localhost:8080/"
        },
        "id": "_hbPI-2KuhFE",
        "outputId": "6e611014-68f9-47bd-b67c-411843a93d88"
      },
      "execution_count": 4,
      "outputs": [
        {
          "output_type": "stream",
          "name": "stdout",
          "text": [
            "['False', 'None', 'True', 'and', 'as', 'assert', 'async', 'await', 'break', 'class', 'continue', 'def', 'del', 'elif', 'else', 'except', 'finally', 'for', 'from', 'global', 'if', 'import', 'in', 'is', 'lambda', 'nonlocal', 'not', 'or', 'pass', 'raise', 'return', 'try', 'while', 'with', 'yield']\n"
          ]
        }
      ]
    },
    {
      "cell_type": "markdown",
      "source": [
        "4. Check if a word is a Python keyword"
      ],
      "metadata": {
        "id": "RGCMIWdxujor"
      }
    },
    {
      "cell_type": "code",
      "source": [
        "import keyword\n",
        "\n",
        "words = [\"if\", \"loop\", \"def\", \"true\", \"while\", \"any\", \"lambda\", \"print\", \"return\", \"hello\"]\n",
        "\n",
        "for word in words:\n",
        "    if keyword.iskeyword(word):\n",
        "        print(f\"{word} is a Python keyword.\")\n",
        "    else:\n",
        "        print(f\"{word} is not a Python keyword.\")"
      ],
      "metadata": {
        "colab": {
          "base_uri": "https://localhost:8080/"
        },
        "id": "LCV_ul7hwdwc",
        "outputId": "3bc0fc7b-ed4b-4c4c-9ab2-345ff39adfa4"
      },
      "execution_count": 10,
      "outputs": [
        {
          "output_type": "stream",
          "name": "stdout",
          "text": [
            "if is a Python keyword.\n",
            "loop is not a Python keyword.\n",
            "def is a Python keyword.\n",
            "true is not a Python keyword.\n",
            "while is a Python keyword.\n",
            "any is not a Python keyword.\n",
            "lambda is a Python keyword.\n",
            "print is not a Python keyword.\n",
            "return is a Python keyword.\n",
            "hello is not a Python keyword.\n"
          ]
        }
      ]
    },
    {
      "cell_type": "markdown",
      "source": [
        "5. List vs Tuple Mutability"
      ],
      "metadata": {
        "id": "9ziQeQuowxcj"
      }
    },
    {
      "cell_type": "code",
      "source": [
        "# Demonstrating mutability in List\n",
        "my_list = [1, 2, 3]\n",
        "print(\"Original List:\", my_list)\n",
        "\n",
        "# Modifying an element in the list\n",
        "my_list[0] = 100\n",
        "print(\"Modified List:\", my_list)\n",
        "\n",
        "# Demonstrating immutability in Tuple\n",
        "my_tuple = (1, 2, 3)\n",
        "print(\"\\nOriginal Tuple:\", my_tuple)\n",
        "\n",
        "# Attempting to modify an element in the tuple (will raise an error)\n",
        "try:\n",
        "    my_tuple[0] = 100\n",
        "except TypeError as error:\n",
        "    print(\"Error when trying to modify tuple:\", error)"
      ],
      "metadata": {
        "colab": {
          "base_uri": "https://localhost:8080/"
        },
        "id": "2kgnThJgx5OU",
        "outputId": "d3e2a96a-320e-427d-fc84-b00911435dbe"
      },
      "execution_count": 20,
      "outputs": [
        {
          "output_type": "stream",
          "name": "stdout",
          "text": [
            "Original List: [1, 2, 3]\n",
            "Modified List: [100, 2, 3]\n",
            "\n",
            "Original Tuple: (1, 2, 3)\n",
            "Error when trying to modify tuple: 'tuple' object does not support item assignment\n"
          ]
        }
      ]
    },
    {
      "cell_type": "markdown",
      "source": [
        "6. Mutable vs Immutable Arguments"
      ],
      "metadata": {
        "id": "45bz9aaXxCki"
      }
    },
    {
      "cell_type": "code",
      "source": [
        "def modify_list(l):\n",
        "    l.append(100)\n",
        "\n",
        "def modify_int(n):\n",
        "    n += 10\n",
        "\n",
        "my_list = [1, 2]\n",
        "modify_list(my_list)\n",
        "print(\"Mutable:\", my_list)\n",
        "\n",
        "my_number = 5\n",
        "modify_int(my_number)\n",
        "print(\"Immutable:\", my_number)"
      ],
      "metadata": {
        "colab": {
          "base_uri": "https://localhost:8080/"
        },
        "id": "dWvfkTEqxFrC",
        "outputId": "4f3e7e19-2edf-4c76-92d9-e5d94b8ee2d3"
      },
      "execution_count": 16,
      "outputs": [
        {
          "output_type": "stream",
          "name": "stdout",
          "text": [
            "Mutable: [1, 2, 100]\n",
            "Immutable: 5\n"
          ]
        }
      ]
    },
    {
      "cell_type": "markdown",
      "source": [
        "7. Basic arithmetic operations"
      ],
      "metadata": {
        "id": "rfI1ati5xIyD"
      }
    },
    {
      "cell_type": "code",
      "source": [
        "# Fixed numbers\n",
        "num1 = 15\n",
        "num2 = 4\n",
        "\n",
        "# Performing basic arithmetic operations\n",
        "print(\"Arithmetic Operations:\")\n",
        "print(f\"Addition: {num1} + {num2} = {num1 + num2}\")\n",
        "print(f\"Subtraction: {num1} - {num2} = {num1 - num2}\")\n",
        "print(f\"Multiplication: {num1} * {num2} = {num1 * num2}\")\n",
        "print(f\"Division: {num1} / {num2} = {num1 / num2}\")\n",
        "print(f\"Modulus: {num1} % {num2} = {num1 % num2}\")\n",
        "print(f\"Exponentiation: {num1} ** {num2} = {num1 ** num2}\")\n",
        "print(f\"Floor Division: {num1} // {num2} = {num1 // num2}\")"
      ],
      "metadata": {
        "colab": {
          "base_uri": "https://localhost:8080/"
        },
        "id": "C00mp3Xzzybc",
        "outputId": "c005e152-2e3f-4533-f578-c06097d85fab"
      },
      "execution_count": 27,
      "outputs": [
        {
          "output_type": "stream",
          "name": "stdout",
          "text": [
            "Arithmetic Operations:\n",
            "Addition: 15 + 4 = 19\n",
            "Subtraction: 15 - 4 = 11\n",
            "Multiplication: 15 * 4 = 60\n",
            "Division: 15 / 4 = 3.75\n",
            "Modulus: 15 % 4 = 3\n",
            "Exponentiation: 15 ** 4 = 50625\n",
            "Floor Division: 15 // 4 = 3\n"
          ]
        }
      ]
    },
    {
      "cell_type": "markdown",
      "source": [
        "8. Logical operators"
      ],
      "metadata": {
        "id": "v3LSyS5gy1Sa"
      }
    },
    {
      "cell_type": "code",
      "source": [
        "x = 10\n",
        "y = 20\n",
        "print(x > 5 and y > 10)  # True\n",
        "print(x > 15 or y > 10)  # True\n",
        "print(not(x > 15))       # True"
      ],
      "metadata": {
        "colab": {
          "base_uri": "https://localhost:8080/"
        },
        "id": "qWw8D8wZzBHr",
        "outputId": "241719bf-79ad-4758-f24b-7bc09af9f72f"
      },
      "execution_count": 23,
      "outputs": [
        {
          "output_type": "stream",
          "name": "stdout",
          "text": [
            "True\n",
            "True\n",
            "True\n"
          ]
        }
      ]
    },
    {
      "cell_type": "markdown",
      "source": [
        "9. Convert input types"
      ],
      "metadata": {
        "id": "egWVkcp9z8Fy"
      }
    },
    {
      "cell_type": "code",
      "source": [
        "# Sample input value\n",
        "s = \"10\"  # You can change this value to test different inputs\n",
        "\n",
        "# Converting to different types\n",
        "i = int(s)\n",
        "f = float(s)\n",
        "b = bool(s)\n",
        "\n",
        "# Displaying the results\n",
        "print(\"Original String:\", s)\n",
        "print(\"As Integer:\", i)\n",
        "print(\"As Float:\", f)\n",
        "print(\"As Boolean:\", b)"
      ],
      "metadata": {
        "colab": {
          "base_uri": "https://localhost:8080/"
        },
        "id": "Yr84hI4W2qhS",
        "outputId": "101794a2-433e-42a8-8596-66f880be3106"
      },
      "execution_count": 38,
      "outputs": [
        {
          "output_type": "stream",
          "name": "stdout",
          "text": [
            "Original String: 10\n",
            "As Integer: 10\n",
            "As Float: 10.0\n",
            "As Boolean: True\n"
          ]
        }
      ]
    },
    {
      "cell_type": "markdown",
      "source": [
        "10. Type casting list elements"
      ],
      "metadata": {
        "id": "_hhS-O-K0Idy"
      }
    },
    {
      "cell_type": "code",
      "source": [
        "string_list = [\"1\", \"2\", \"3\"]\n",
        "int_list = list(map(int, string_list))\n",
        "print(int_list)"
      ],
      "metadata": {
        "colab": {
          "base_uri": "https://localhost:8080/"
        },
        "id": "F6MNFM8A0Kbi",
        "outputId": "d011e574-c601-4060-8bc2-c3b854cbdd1c"
      },
      "execution_count": 29,
      "outputs": [
        {
          "output_type": "stream",
          "name": "stdout",
          "text": [
            "[1, 2, 3]\n"
          ]
        }
      ]
    },
    {
      "cell_type": "markdown",
      "source": [
        "11. Check positive, negative, or zero"
      ],
      "metadata": {
        "id": "9rpIt4B60Oo6"
      }
    },
    {
      "cell_type": "code",
      "source": [
        "# Fixed number\n",
        "num = -7\n",
        "\n",
        "# Check if the number is positive, negative, or zero\n",
        "if num > 0:\n",
        "    print(f\"{num} is Positive\")\n",
        "elif num < 0:\n",
        "    print(f\"{num} is Negative\")\n",
        "else:\n",
        "    print(f\"{num} is Zero\")"
      ],
      "metadata": {
        "colab": {
          "base_uri": "https://localhost:8080/"
        },
        "id": "gfFXs2NF0gGb",
        "outputId": "4b30f680-bd07-45ab-b8c4-d8bd5e9bd9ab"
      },
      "execution_count": 31,
      "outputs": [
        {
          "output_type": "stream",
          "name": "stdout",
          "text": [
            "-7 is Negative\n"
          ]
        }
      ]
    },
    {
      "cell_type": "markdown",
      "source": [
        "12. Print numbers from 1 to 10"
      ],
      "metadata": {
        "id": "YNHic_LF0lE9"
      }
    },
    {
      "cell_type": "code",
      "source": [
        "for i in range(1, 11):\n",
        "    print(i)"
      ],
      "metadata": {
        "colab": {
          "base_uri": "https://localhost:8080/"
        },
        "id": "CfclE3ro0lnj",
        "outputId": "5e6cc4c3-006a-48f6-956c-c227851d5081"
      },
      "execution_count": 32,
      "outputs": [
        {
          "output_type": "stream",
          "name": "stdout",
          "text": [
            "1\n",
            "2\n",
            "3\n",
            "4\n",
            "5\n",
            "6\n",
            "7\n",
            "8\n",
            "9\n",
            "10\n"
          ]
        }
      ]
    },
    {
      "cell_type": "markdown",
      "source": [
        "13. Sum of even numbers from 1 to 50"
      ],
      "metadata": {
        "id": "WXbgT0WQ0oWy"
      }
    },
    {
      "cell_type": "code",
      "source": [
        "total = 0\n",
        "for i in range(1, 51):\n",
        "    if i % 2 == 0:\n",
        "        total += i\n",
        "print(\"Sum:\", total)"
      ],
      "metadata": {
        "colab": {
          "base_uri": "https://localhost:8080/"
        },
        "id": "66hJZzgl0ptK",
        "outputId": "96b70aa1-59d6-4101-e76e-1f591e28460d"
      },
      "execution_count": 33,
      "outputs": [
        {
          "output_type": "stream",
          "name": "stdout",
          "text": [
            "Sum: 650\n"
          ]
        }
      ]
    },
    {
      "cell_type": "markdown",
      "source": [
        "14. Reverse string using while loop"
      ],
      "metadata": {
        "id": "ef-jfbkq0zyS"
      }
    },
    {
      "cell_type": "code",
      "source": [
        "# Fixed string\n",
        "text = \"hello\"\n",
        "\n",
        "# Initialize an empty string to store the reversed version\n",
        "reversed_text = \"\"\n",
        "\n",
        "# Set index to the last character\n",
        "index = len(text) - 1\n",
        "\n",
        "# Use while loop to reverse the string\n",
        "while index >= 0:\n",
        "    reversed_text += text[index]\n",
        "    index -= 1\n",
        "\n",
        "# Print the reversed string\n",
        "print(\"Original string:\", text)\n",
        "print(\"Reversed string:\", reversed_text)\n"
      ],
      "metadata": {
        "colab": {
          "base_uri": "https://localhost:8080/"
        },
        "id": "MKbOX4oF1Ijq",
        "outputId": "b6fb8840-6387-463e-dde0-5c32e4ac9283"
      },
      "execution_count": 35,
      "outputs": [
        {
          "output_type": "stream",
          "name": "stdout",
          "text": [
            "Original string: hello\n",
            "Reversed string: olleh\n"
          ]
        }
      ]
    },
    {
      "cell_type": "markdown",
      "source": [
        "15. Factorial using while loop"
      ],
      "metadata": {
        "id": "g7t-w6LF1jly"
      }
    },
    {
      "cell_type": "code",
      "source": [
        "# Factorial using while loop\n",
        "\n",
        "num = 6  # You can change this number to anything you like\n",
        "factorial = 1\n",
        "\n",
        "while num > 1:\n",
        "    factorial *= num\n",
        "    num -= 1\n",
        "\n",
        "print(\"Factorial is:\", factorial)"
      ],
      "metadata": {
        "colab": {
          "base_uri": "https://localhost:8080/"
        },
        "id": "doTCfzxr1l9t",
        "outputId": "cae8f25e-b19d-4958-a2ac-5ed6ae08809f"
      },
      "execution_count": 37,
      "outputs": [
        {
          "output_type": "stream",
          "name": "stdout",
          "text": [
            "Factorial is: 720\n"
          ]
        }
      ]
    }
  ]
}